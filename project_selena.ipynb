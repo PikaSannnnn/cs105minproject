{
 "cells": [
  {
   "cell_type": "markdown",
   "id": "091fcac3-78c1-4b16-9149-39f984e4d7e1",
   "metadata": {},
   "source": [
    "Project"
   ]
  },
  {
   "cell_type": "markdown",
   "id": "b76384b2-d984-43c1-a511-222a782e6d16",
   "metadata": {},
   "source": [
    "1. What data do you have?"
   ]
  },
  {
   "cell_type": "markdown",
   "id": "265fcf1a-34cf-4a1c-8637-f50852b9b0a2",
   "metadata": {},
   "source": [
    "Our data consists of specific questions which are:\n",
    "18. How many units are you taking currently?\n",
    "54. What is your current living situation?\n",
    "55. How do you commute to school?\n",
    "56. Do you have a UCR dining plan?\n",
    "57. How many times a week do you purchase food or drinks from somewhere on campus?\n",
    "58. What items do you purchase?\n",
    "59. What is the biggest reason you do not purchase more food and drinks on campus?\n",
    "\n",
    "Each column consists of one of these questions, while each row consists of an individual’s response to each question. Essentially, the data we have relates to the student’s amount of units they are taking, their living situation and if they commute, whether or not they purchase food on campus, and if they don’t what is the reason why.\n"
   ]
  },
  {
   "cell_type": "markdown",
   "id": "c95251f5-fac1-402e-8a25-c78fc43b4948",
   "metadata": {},
   "source": [
    "2. What would you like to know?\n"
   ]
  },
  {
   "cell_type": "markdown",
   "id": "a738345d-9ce4-4796-96a0-b5122b1c7165",
   "metadata": {},
   "source": [
    "We would like to know if the amount of units a student has affects how often they get food on campus. We are trying to determine if a student’s total units affect if they buy food often if they have at and/or 12 units as opposed to students who are part time who take less than 12 units. We are also trying to determine if their living situation affects whether or not students purchase food on campus. \n"
   ]
  },
  {
   "cell_type": "code",
   "execution_count": 1,
   "id": "3016c976-7b88-47ed-aa2c-0323c3f6f11c",
   "metadata": {},
   "outputs": [],
   "source": [
    "import pandas as pd\n",
    "import numpy as np\n",
    "import matplotlib.pyplot as plt\n",
    "import seaborn as sns\n",
    "import math\n",
    "from scipy import stats\n",
    "%matplotlib inline"
   ]
  },
  {
   "cell_type": "markdown",
   "id": "b9229bda-f727-403b-a56c-20c8cae4b008",
   "metadata": {},
   "source": [
    "Graph #1: FINDING THE CORRELATION BETWEEN HOW A STUDENT COMMUTES BY SPLITTING IT INTO TWO SUBGROUPS (NON-CAR VS CAR) AND HOW MANY ITEMS THEY PURCHASE"
   ]
  },
  {
   "cell_type": "code",
   "execution_count": 3,
   "id": "b1f87c89-86c8-43c2-9c59-0e849dac1ffc",
   "metadata": {},
   "outputs": [
    {
     "ename": "FileNotFoundError",
     "evalue": "[Errno 2] No such file or directory: 'C:\\\\Users\\\\lenar\\\\Desktop\\\\lab 5_6_f22\\\\lab6\\\\data.csv'",
     "output_type": "error",
     "traceback": [
      "\u001b[1;31m---------------------------------------------------------------------------\u001b[0m",
      "\u001b[1;31mFileNotFoundError\u001b[0m                         Traceback (most recent call last)",
      "\u001b[1;32mC:\\Users\\PIKA-S~1\\AppData\\Local\\Temp/ipykernel_3952/2730794313.py\u001b[0m in \u001b[0;36m<module>\u001b[1;34m\u001b[0m\n\u001b[1;32m----> 1\u001b[1;33m \u001b[0mdf\u001b[0m \u001b[1;33m=\u001b[0m \u001b[0mpd\u001b[0m\u001b[1;33m.\u001b[0m\u001b[0mread_csv\u001b[0m\u001b[1;33m(\u001b[0m\u001b[1;34mr'C:\\Users\\lenar\\Desktop\\lab 5_6_f22\\lab6\\data.csv'\u001b[0m\u001b[1;33m)\u001b[0m\u001b[1;33m\u001b[0m\u001b[1;33m\u001b[0m\u001b[0m\n\u001b[0m\u001b[0;32m      2\u001b[0m \u001b[1;31m#df = df['57. How many times a week do you purchase food or drinks from somewhere on campus?'].replace(np.nan, 0)\u001b[0m\u001b[1;33m\u001b[0m\u001b[1;33m\u001b[0m\u001b[1;33m\u001b[0m\u001b[0m\n\u001b[0;32m      3\u001b[0m \u001b[0mdf\u001b[0m\u001b[1;33m[\u001b[0m\u001b[1;34m'57. How many times a week do you purchase food or drinks from somewhere on campus?'\u001b[0m\u001b[1;33m]\u001b[0m \u001b[1;33m=\u001b[0m \u001b[0mdf\u001b[0m\u001b[1;33m[\u001b[0m\u001b[1;34m'57. How many times a week do you purchase food or drinks from somewhere on campus?'\u001b[0m\u001b[1;33m]\u001b[0m\u001b[1;33m.\u001b[0m\u001b[0mreplace\u001b[0m\u001b[1;33m(\u001b[0m\u001b[0mnp\u001b[0m\u001b[1;33m.\u001b[0m\u001b[0mnan\u001b[0m\u001b[1;33m,\u001b[0m \u001b[1;36m0\u001b[0m\u001b[1;33m)\u001b[0m\u001b[1;33m\u001b[0m\u001b[1;33m\u001b[0m\u001b[0m\n\u001b[0;32m      4\u001b[0m \u001b[1;31m# df.head()\u001b[0m\u001b[1;33m\u001b[0m\u001b[1;33m\u001b[0m\u001b[1;33m\u001b[0m\u001b[0m\n\u001b[0;32m      5\u001b[0m \u001b[0mdf\u001b[0m\u001b[1;33m.\u001b[0m\u001b[0mdtypes\u001b[0m\u001b[1;33m(\u001b[0m\u001b[1;33m)\u001b[0m\u001b[1;33m\u001b[0m\u001b[1;33m\u001b[0m\u001b[0m\n",
      "\u001b[1;32mc:\\users\\pika-sannnnn\\appdata\\local\\programs\\python\\python38\\lib\\site-packages\\pandas\\util\\_decorators.py\u001b[0m in \u001b[0;36mwrapper\u001b[1;34m(*args, **kwargs)\u001b[0m\n\u001b[0;32m    309\u001b[0m                     \u001b[0mstacklevel\u001b[0m\u001b[1;33m=\u001b[0m\u001b[0mstacklevel\u001b[0m\u001b[1;33m,\u001b[0m\u001b[1;33m\u001b[0m\u001b[1;33m\u001b[0m\u001b[0m\n\u001b[0;32m    310\u001b[0m                 )\n\u001b[1;32m--> 311\u001b[1;33m             \u001b[1;32mreturn\u001b[0m \u001b[0mfunc\u001b[0m\u001b[1;33m(\u001b[0m\u001b[1;33m*\u001b[0m\u001b[0margs\u001b[0m\u001b[1;33m,\u001b[0m \u001b[1;33m**\u001b[0m\u001b[0mkwargs\u001b[0m\u001b[1;33m)\u001b[0m\u001b[1;33m\u001b[0m\u001b[1;33m\u001b[0m\u001b[0m\n\u001b[0m\u001b[0;32m    312\u001b[0m \u001b[1;33m\u001b[0m\u001b[0m\n\u001b[0;32m    313\u001b[0m         \u001b[1;32mreturn\u001b[0m \u001b[0mwrapper\u001b[0m\u001b[1;33m\u001b[0m\u001b[1;33m\u001b[0m\u001b[0m\n",
      "\u001b[1;32mc:\\users\\pika-sannnnn\\appdata\\local\\programs\\python\\python38\\lib\\site-packages\\pandas\\io\\parsers\\readers.py\u001b[0m in \u001b[0;36mread_csv\u001b[1;34m(filepath_or_buffer, sep, delimiter, header, names, index_col, usecols, squeeze, prefix, mangle_dupe_cols, dtype, engine, converters, true_values, false_values, skipinitialspace, skiprows, skipfooter, nrows, na_values, keep_default_na, na_filter, verbose, skip_blank_lines, parse_dates, infer_datetime_format, keep_date_col, date_parser, dayfirst, cache_dates, iterator, chunksize, compression, thousands, decimal, lineterminator, quotechar, quoting, doublequote, escapechar, comment, encoding, encoding_errors, dialect, error_bad_lines, warn_bad_lines, on_bad_lines, delim_whitespace, low_memory, memory_map, float_precision, storage_options)\u001b[0m\n\u001b[0;32m    584\u001b[0m     \u001b[0mkwds\u001b[0m\u001b[1;33m.\u001b[0m\u001b[0mupdate\u001b[0m\u001b[1;33m(\u001b[0m\u001b[0mkwds_defaults\u001b[0m\u001b[1;33m)\u001b[0m\u001b[1;33m\u001b[0m\u001b[1;33m\u001b[0m\u001b[0m\n\u001b[0;32m    585\u001b[0m \u001b[1;33m\u001b[0m\u001b[0m\n\u001b[1;32m--> 586\u001b[1;33m     \u001b[1;32mreturn\u001b[0m \u001b[0m_read\u001b[0m\u001b[1;33m(\u001b[0m\u001b[0mfilepath_or_buffer\u001b[0m\u001b[1;33m,\u001b[0m \u001b[0mkwds\u001b[0m\u001b[1;33m)\u001b[0m\u001b[1;33m\u001b[0m\u001b[1;33m\u001b[0m\u001b[0m\n\u001b[0m\u001b[0;32m    587\u001b[0m \u001b[1;33m\u001b[0m\u001b[0m\n\u001b[0;32m    588\u001b[0m \u001b[1;33m\u001b[0m\u001b[0m\n",
      "\u001b[1;32mc:\\users\\pika-sannnnn\\appdata\\local\\programs\\python\\python38\\lib\\site-packages\\pandas\\io\\parsers\\readers.py\u001b[0m in \u001b[0;36m_read\u001b[1;34m(filepath_or_buffer, kwds)\u001b[0m\n\u001b[0;32m    480\u001b[0m \u001b[1;33m\u001b[0m\u001b[0m\n\u001b[0;32m    481\u001b[0m     \u001b[1;31m# Create the parser.\u001b[0m\u001b[1;33m\u001b[0m\u001b[1;33m\u001b[0m\u001b[1;33m\u001b[0m\u001b[0m\n\u001b[1;32m--> 482\u001b[1;33m     \u001b[0mparser\u001b[0m \u001b[1;33m=\u001b[0m \u001b[0mTextFileReader\u001b[0m\u001b[1;33m(\u001b[0m\u001b[0mfilepath_or_buffer\u001b[0m\u001b[1;33m,\u001b[0m \u001b[1;33m**\u001b[0m\u001b[0mkwds\u001b[0m\u001b[1;33m)\u001b[0m\u001b[1;33m\u001b[0m\u001b[1;33m\u001b[0m\u001b[0m\n\u001b[0m\u001b[0;32m    483\u001b[0m \u001b[1;33m\u001b[0m\u001b[0m\n\u001b[0;32m    484\u001b[0m     \u001b[1;32mif\u001b[0m \u001b[0mchunksize\u001b[0m \u001b[1;32mor\u001b[0m \u001b[0miterator\u001b[0m\u001b[1;33m:\u001b[0m\u001b[1;33m\u001b[0m\u001b[1;33m\u001b[0m\u001b[0m\n",
      "\u001b[1;32mc:\\users\\pika-sannnnn\\appdata\\local\\programs\\python\\python38\\lib\\site-packages\\pandas\\io\\parsers\\readers.py\u001b[0m in \u001b[0;36m__init__\u001b[1;34m(self, f, engine, **kwds)\u001b[0m\n\u001b[0;32m    809\u001b[0m             \u001b[0mself\u001b[0m\u001b[1;33m.\u001b[0m\u001b[0moptions\u001b[0m\u001b[1;33m[\u001b[0m\u001b[1;34m\"has_index_names\"\u001b[0m\u001b[1;33m]\u001b[0m \u001b[1;33m=\u001b[0m \u001b[0mkwds\u001b[0m\u001b[1;33m[\u001b[0m\u001b[1;34m\"has_index_names\"\u001b[0m\u001b[1;33m]\u001b[0m\u001b[1;33m\u001b[0m\u001b[1;33m\u001b[0m\u001b[0m\n\u001b[0;32m    810\u001b[0m \u001b[1;33m\u001b[0m\u001b[0m\n\u001b[1;32m--> 811\u001b[1;33m         \u001b[0mself\u001b[0m\u001b[1;33m.\u001b[0m\u001b[0m_engine\u001b[0m \u001b[1;33m=\u001b[0m \u001b[0mself\u001b[0m\u001b[1;33m.\u001b[0m\u001b[0m_make_engine\u001b[0m\u001b[1;33m(\u001b[0m\u001b[0mself\u001b[0m\u001b[1;33m.\u001b[0m\u001b[0mengine\u001b[0m\u001b[1;33m)\u001b[0m\u001b[1;33m\u001b[0m\u001b[1;33m\u001b[0m\u001b[0m\n\u001b[0m\u001b[0;32m    812\u001b[0m \u001b[1;33m\u001b[0m\u001b[0m\n\u001b[0;32m    813\u001b[0m     \u001b[1;32mdef\u001b[0m \u001b[0mclose\u001b[0m\u001b[1;33m(\u001b[0m\u001b[0mself\u001b[0m\u001b[1;33m)\u001b[0m\u001b[1;33m:\u001b[0m\u001b[1;33m\u001b[0m\u001b[1;33m\u001b[0m\u001b[0m\n",
      "\u001b[1;32mc:\\users\\pika-sannnnn\\appdata\\local\\programs\\python\\python38\\lib\\site-packages\\pandas\\io\\parsers\\readers.py\u001b[0m in \u001b[0;36m_make_engine\u001b[1;34m(self, engine)\u001b[0m\n\u001b[0;32m   1038\u001b[0m             )\n\u001b[0;32m   1039\u001b[0m         \u001b[1;31m# error: Too many arguments for \"ParserBase\"\u001b[0m\u001b[1;33m\u001b[0m\u001b[1;33m\u001b[0m\u001b[1;33m\u001b[0m\u001b[0m\n\u001b[1;32m-> 1040\u001b[1;33m         \u001b[1;32mreturn\u001b[0m \u001b[0mmapping\u001b[0m\u001b[1;33m[\u001b[0m\u001b[0mengine\u001b[0m\u001b[1;33m]\u001b[0m\u001b[1;33m(\u001b[0m\u001b[0mself\u001b[0m\u001b[1;33m.\u001b[0m\u001b[0mf\u001b[0m\u001b[1;33m,\u001b[0m \u001b[1;33m**\u001b[0m\u001b[0mself\u001b[0m\u001b[1;33m.\u001b[0m\u001b[0moptions\u001b[0m\u001b[1;33m)\u001b[0m  \u001b[1;31m# type: ignore[call-arg]\u001b[0m\u001b[1;33m\u001b[0m\u001b[1;33m\u001b[0m\u001b[0m\n\u001b[0m\u001b[0;32m   1041\u001b[0m \u001b[1;33m\u001b[0m\u001b[0m\n\u001b[0;32m   1042\u001b[0m     \u001b[1;32mdef\u001b[0m \u001b[0m_failover_to_python\u001b[0m\u001b[1;33m(\u001b[0m\u001b[0mself\u001b[0m\u001b[1;33m)\u001b[0m\u001b[1;33m:\u001b[0m\u001b[1;33m\u001b[0m\u001b[1;33m\u001b[0m\u001b[0m\n",
      "\u001b[1;32mc:\\users\\pika-sannnnn\\appdata\\local\\programs\\python\\python38\\lib\\site-packages\\pandas\\io\\parsers\\c_parser_wrapper.py\u001b[0m in \u001b[0;36m__init__\u001b[1;34m(self, src, **kwds)\u001b[0m\n\u001b[0;32m     49\u001b[0m \u001b[1;33m\u001b[0m\u001b[0m\n\u001b[0;32m     50\u001b[0m         \u001b[1;31m# open handles\u001b[0m\u001b[1;33m\u001b[0m\u001b[1;33m\u001b[0m\u001b[1;33m\u001b[0m\u001b[0m\n\u001b[1;32m---> 51\u001b[1;33m         \u001b[0mself\u001b[0m\u001b[1;33m.\u001b[0m\u001b[0m_open_handles\u001b[0m\u001b[1;33m(\u001b[0m\u001b[0msrc\u001b[0m\u001b[1;33m,\u001b[0m \u001b[0mkwds\u001b[0m\u001b[1;33m)\u001b[0m\u001b[1;33m\u001b[0m\u001b[1;33m\u001b[0m\u001b[0m\n\u001b[0m\u001b[0;32m     52\u001b[0m         \u001b[1;32massert\u001b[0m \u001b[0mself\u001b[0m\u001b[1;33m.\u001b[0m\u001b[0mhandles\u001b[0m \u001b[1;32mis\u001b[0m \u001b[1;32mnot\u001b[0m \u001b[1;32mNone\u001b[0m\u001b[1;33m\u001b[0m\u001b[1;33m\u001b[0m\u001b[0m\n\u001b[0;32m     53\u001b[0m \u001b[1;33m\u001b[0m\u001b[0m\n",
      "\u001b[1;32mc:\\users\\pika-sannnnn\\appdata\\local\\programs\\python\\python38\\lib\\site-packages\\pandas\\io\\parsers\\base_parser.py\u001b[0m in \u001b[0;36m_open_handles\u001b[1;34m(self, src, kwds)\u001b[0m\n\u001b[0;32m    220\u001b[0m         \u001b[0mLet\u001b[0m \u001b[0mthe\u001b[0m \u001b[0mreaders\u001b[0m \u001b[0mopen\u001b[0m \u001b[0mIOHandles\u001b[0m \u001b[0mafter\u001b[0m \u001b[0mthey\u001b[0m \u001b[0mare\u001b[0m \u001b[0mdone\u001b[0m \u001b[1;32mwith\u001b[0m \u001b[0mtheir\u001b[0m \u001b[0mpotential\u001b[0m \u001b[0mraises\u001b[0m\u001b[1;33m.\u001b[0m\u001b[1;33m\u001b[0m\u001b[1;33m\u001b[0m\u001b[0m\n\u001b[0;32m    221\u001b[0m         \"\"\"\n\u001b[1;32m--> 222\u001b[1;33m         self.handles = get_handle(\n\u001b[0m\u001b[0;32m    223\u001b[0m             \u001b[0msrc\u001b[0m\u001b[1;33m,\u001b[0m\u001b[1;33m\u001b[0m\u001b[1;33m\u001b[0m\u001b[0m\n\u001b[0;32m    224\u001b[0m             \u001b[1;34m\"r\"\u001b[0m\u001b[1;33m,\u001b[0m\u001b[1;33m\u001b[0m\u001b[1;33m\u001b[0m\u001b[0m\n",
      "\u001b[1;32mc:\\users\\pika-sannnnn\\appdata\\local\\programs\\python\\python38\\lib\\site-packages\\pandas\\io\\common.py\u001b[0m in \u001b[0;36mget_handle\u001b[1;34m(path_or_buf, mode, encoding, compression, memory_map, is_text, errors, storage_options)\u001b[0m\n\u001b[0;32m    700\u001b[0m         \u001b[1;32mif\u001b[0m \u001b[0mioargs\u001b[0m\u001b[1;33m.\u001b[0m\u001b[0mencoding\u001b[0m \u001b[1;32mand\u001b[0m \u001b[1;34m\"b\"\u001b[0m \u001b[1;32mnot\u001b[0m \u001b[1;32min\u001b[0m \u001b[0mioargs\u001b[0m\u001b[1;33m.\u001b[0m\u001b[0mmode\u001b[0m\u001b[1;33m:\u001b[0m\u001b[1;33m\u001b[0m\u001b[1;33m\u001b[0m\u001b[0m\n\u001b[0;32m    701\u001b[0m             \u001b[1;31m# Encoding\u001b[0m\u001b[1;33m\u001b[0m\u001b[1;33m\u001b[0m\u001b[1;33m\u001b[0m\u001b[0m\n\u001b[1;32m--> 702\u001b[1;33m             handle = open(\n\u001b[0m\u001b[0;32m    703\u001b[0m                 \u001b[0mhandle\u001b[0m\u001b[1;33m,\u001b[0m\u001b[1;33m\u001b[0m\u001b[1;33m\u001b[0m\u001b[0m\n\u001b[0;32m    704\u001b[0m                 \u001b[0mioargs\u001b[0m\u001b[1;33m.\u001b[0m\u001b[0mmode\u001b[0m\u001b[1;33m,\u001b[0m\u001b[1;33m\u001b[0m\u001b[1;33m\u001b[0m\u001b[0m\n",
      "\u001b[1;31mFileNotFoundError\u001b[0m: [Errno 2] No such file or directory: 'C:\\\\Users\\\\lenar\\\\Desktop\\\\lab 5_6_f22\\\\lab6\\\\data.csv'"
     ]
    }
   ],
   "source": [
    "df = pd.read_csv(r'C:\\Users\\lenar\\Desktop\\lab 5_6_f22\\lab6\\data.csv')\n",
    "#df = df['57. How many times a week do you purchase food or drinks from somewhere on campus?'].replace(np.nan, 0)\n",
    "df['57. How many times a week do you purchase food or drinks from somewhere on campus?'] = df['57. How many times a week do you purchase food or drinks from somewhere on campus?'].replace(np.nan, 0)\n",
    "df.head()"
   ]
  },
  {
   "cell_type": "code",
   "execution_count": 3,
   "id": "888ed2d8-e8a3-4081-8aa8-97cad6b72f4d",
   "metadata": {},
   "outputs": [
    {
     "data": {
      "text/html": [
       "<div>\n",
       "<style scoped>\n",
       "    .dataframe tbody tr th:only-of-type {\n",
       "        vertical-align: middle;\n",
       "    }\n",
       "\n",
       "    .dataframe tbody tr th {\n",
       "        vertical-align: top;\n",
       "    }\n",
       "\n",
       "    .dataframe thead th {\n",
       "        text-align: right;\n",
       "    }\n",
       "</style>\n",
       "<table border=\"1\" class=\"dataframe\">\n",
       "  <thead>\n",
       "    <tr style=\"text-align: right;\">\n",
       "      <th></th>\n",
       "      <th>57. How many times a week do you purchase food or drinks from somewhere on campus?</th>\n",
       "    </tr>\n",
       "    <tr>\n",
       "      <th>55. How do you commute to school?</th>\n",
       "      <th></th>\n",
       "    </tr>\n",
       "  </thead>\n",
       "  <tbody>\n",
       "    <tr>\n",
       "      <th>Bicycle / Scooter / Skateboard</th>\n",
       "      <td>14</td>\n",
       "    </tr>\n",
       "    <tr>\n",
       "      <th>Carpool</th>\n",
       "      <td>1</td>\n",
       "    </tr>\n",
       "    <tr>\n",
       "      <th>Drive Yourself</th>\n",
       "      <td>24</td>\n",
       "    </tr>\n",
       "    <tr>\n",
       "      <th>Driven (Dropped-off)</th>\n",
       "      <td>4</td>\n",
       "    </tr>\n",
       "    <tr>\n",
       "      <th>Public Transportation</th>\n",
       "      <td>4</td>\n",
       "    </tr>\n",
       "    <tr>\n",
       "      <th>Walk</th>\n",
       "      <td>34</td>\n",
       "    </tr>\n",
       "  </tbody>\n",
       "</table>\n",
       "</div>"
      ],
      "text/plain": [
       "                                   57. How many times a week do you purchase food or drinks from somewhere on campus?\n",
       "55. How do you commute to school?                                                                                    \n",
       "Bicycle / Scooter / Skateboard                                                    14                                 \n",
       "Carpool                                                                            1                                 \n",
       "Drive Yourself                                                                    24                                 \n",
       "Driven (Dropped-off)                                                               4                                 \n",
       "Public Transportation                                                              4                                 \n",
       "Walk                                                                              34                                 "
      ]
     },
     "execution_count": 3,
     "metadata": {},
     "output_type": "execute_result"
    }
   ],
   "source": [
    "#Table that splits the way someone commutes + how many items they purchase in total\n",
    "table = pd.pivot_table(data=df, values = '57. How many times a week do you purchase food or drinks from somewhere on campus?', index = '55. How do you commute to school?', aggfunc = 'count') \n",
    "table"
   ]
  },
  {
   "cell_type": "code",
   "execution_count": 4,
   "id": "66454eb8-7a1c-43ef-aa24-4108d194c737",
   "metadata": {
    "tags": []
   },
   "outputs": [
    {
     "data": {
      "text/html": [
       "<div>\n",
       "<style scoped>\n",
       "    .dataframe tbody tr th:only-of-type {\n",
       "        vertical-align: middle;\n",
       "    }\n",
       "\n",
       "    .dataframe tbody tr th {\n",
       "        vertical-align: top;\n",
       "    }\n",
       "\n",
       "    .dataframe thead th {\n",
       "        text-align: right;\n",
       "    }\n",
       "</style>\n",
       "<table border=\"1\" class=\"dataframe\">\n",
       "  <thead>\n",
       "    <tr style=\"text-align: right;\">\n",
       "      <th></th>\n",
       "      <th>57. How many times a week do you purchase food or drinks from somewhere on campus?</th>\n",
       "    </tr>\n",
       "    <tr>\n",
       "      <th>55. How do you commute to school?</th>\n",
       "      <th></th>\n",
       "    </tr>\n",
       "  </thead>\n",
       "  <tbody>\n",
       "    <tr>\n",
       "      <th>Walk</th>\n",
       "      <td>34</td>\n",
       "    </tr>\n",
       "    <tr>\n",
       "      <th>Public Transportation</th>\n",
       "      <td>4</td>\n",
       "    </tr>\n",
       "    <tr>\n",
       "      <th>Bicycle / Scooter / Skateboard</th>\n",
       "      <td>14</td>\n",
       "    </tr>\n",
       "  </tbody>\n",
       "</table>\n",
       "</div>"
      ],
      "text/plain": [
       "                                   57. How many times a week do you purchase food or drinks from somewhere on campus?\n",
       "55. How do you commute to school?                                                                                    \n",
       "Walk                                                                              34                                 \n",
       "Public Transportation                                                              4                                 \n",
       "Bicycle / Scooter / Skateboard                                                    14                                 "
      ]
     },
     "execution_count": 4,
     "metadata": {},
     "output_type": "execute_result"
    }
   ],
   "source": [
    "#Table of group1: non-car consists of  Walk, Public transportation, and Bicycle / Scooter / Skateboard\n",
    "group1 = pd.pivot_table(data=df, values = '57. How many times a week do you purchase food or drinks from somewhere on campus?', index = '55. How do you commute to school?', aggfunc = 'count') \n",
    "group1.loc[[ 'Walk' ,'Public Transportation', 'Bicycle / Scooter / Skateboard']]"
   ]
  },
  {
   "cell_type": "code",
   "execution_count": 6,
   "id": "fc135f3a-c880-4c22-bb6e-fcfb66c492ba",
   "metadata": {},
   "outputs": [
    {
     "data": {
      "text/plain": [
       "57. How many times a week do you purchase food or drinks from somewhere on campus?    17.333333\n",
       "dtype: float64"
      ]
     },
     "execution_count": 6,
     "metadata": {},
     "output_type": "execute_result"
    }
   ],
   "source": [
    "#Take group1 mean in terms of how many items they purchase\n",
    "group1 = pd.pivot_table(data=df, values = '57. How many times a week do you purchase food or drinks from somewhere on campus?', index = '55. How do you commute to school?', aggfunc = 'count') \n",
    "group1_combined = group1.loc[[ 'Walk' ,'Public Transportation', 'Bicycle / Scooter / Skateboard']].mean()[0]\n",
    "group1.loc[[ 'Walk' ,'Public Transportation', 'Bicycle / Scooter / Skateboard']].mean()"
   ]
  },
  {
   "cell_type": "markdown",
   "id": "a2f7b31d-6794-49ef-9500-6788509c8be8",
   "metadata": {},
   "source": [
    " -GROUP 2-"
   ]
  },
  {
   "cell_type": "code",
   "execution_count": 7,
   "id": "43bb715b-6812-4e72-a03a-d47b5f83df60",
   "metadata": {},
   "outputs": [
    {
     "data": {
      "text/html": [
       "<div>\n",
       "<style scoped>\n",
       "    .dataframe tbody tr th:only-of-type {\n",
       "        vertical-align: middle;\n",
       "    }\n",
       "\n",
       "    .dataframe tbody tr th {\n",
       "        vertical-align: top;\n",
       "    }\n",
       "\n",
       "    .dataframe thead th {\n",
       "        text-align: right;\n",
       "    }\n",
       "</style>\n",
       "<table border=\"1\" class=\"dataframe\">\n",
       "  <thead>\n",
       "    <tr style=\"text-align: right;\">\n",
       "      <th></th>\n",
       "      <th>57. How many times a week do you purchase food or drinks from somewhere on campus?</th>\n",
       "    </tr>\n",
       "    <tr>\n",
       "      <th>55. How do you commute to school?</th>\n",
       "      <th></th>\n",
       "    </tr>\n",
       "  </thead>\n",
       "  <tbody>\n",
       "    <tr>\n",
       "      <th>Carpool</th>\n",
       "      <td>1</td>\n",
       "    </tr>\n",
       "    <tr>\n",
       "      <th>Driven (Dropped-off)</th>\n",
       "      <td>4</td>\n",
       "    </tr>\n",
       "    <tr>\n",
       "      <th>Drive Yourself</th>\n",
       "      <td>24</td>\n",
       "    </tr>\n",
       "  </tbody>\n",
       "</table>\n",
       "</div>"
      ],
      "text/plain": [
       "                                   57. How many times a week do you purchase food or drinks from somewhere on campus?\n",
       "55. How do you commute to school?                                                                                    \n",
       "Carpool                                                                            1                                 \n",
       "Driven (Dropped-off)                                                               4                                 \n",
       "Drive Yourself                                                                    24                                 "
      ]
     },
     "execution_count": 7,
     "metadata": {},
     "output_type": "execute_result"
    }
   ],
   "source": [
    "#Table of group2 consists of car which are 'Carpool' ,'Driven (Dropped-off)', 'Drive Yourself'\n",
    "group2 = pd.pivot_table(data=df, values = '57. How many times a week do you purchase food or drinks from somewhere on campus?', index = '55. How do you commute to school?', aggfunc = 'count') \n",
    "group2.loc[[ 'Carpool' ,'Driven (Dropped-off)', 'Drive Yourself']]"
   ]
  },
  {
   "cell_type": "code",
   "execution_count": 9,
   "id": "7e820743-051b-415a-85e7-5c58fe494cd8",
   "metadata": {},
   "outputs": [
    {
     "data": {
      "text/plain": [
       "57. How many times a week do you purchase food or drinks from somewhere on campus?    9.666667\n",
       "dtype: float64"
      ]
     },
     "execution_count": 9,
     "metadata": {},
     "output_type": "execute_result"
    }
   ],
   "source": [
    "#Take group2 mean in terms of how many items they purchase\n",
    "group2 = pd.pivot_table(data=df, values = '57. How many times a week do you purchase food or drinks from somewhere on campus?', index = '55. How do you commute to school?', aggfunc = 'count') \n",
    "group2_combined = group2.loc[[ 'Carpool' ,'Driven (Dropped-off)', 'Drive Yourself']].mean()[0]\n",
    "group2.loc[[ 'Carpool' ,'Driven (Dropped-off)', 'Drive Yourself']].mean()"
   ]
  },
  {
   "cell_type": "code",
   "execution_count": 10,
   "id": "7fa8eb25-1f12-469a-ba53-ad6dc4ed31fa",
   "metadata": {},
   "outputs": [
    {
     "data": {
      "text/plain": [
       "<AxesSubplot:>"
      ]
     },
     "execution_count": 10,
     "metadata": {},
     "output_type": "execute_result"
    },
    {
     "data": {
      "image/png": "[encoded data removed]",
      "text/plain": [
       "<Figure size 432x288 with 1 Axes>"
      ]
     },
     "metadata": {
      "needs_background": "light"
     },
     "output_type": "display_data"
    }
   ],
   "source": [
    "#plot the new sub groups into 2 groups noncar vs car\n",
    "data = [group1_combined, group2_combined]\n",
    "groups = pd.DataFrame(data)\n",
    "mapping = {groups.columns[0]:'average purchase of food/drinks on campus'}\n",
    "groups = groups.rename(columns=mapping)\n",
    "\n",
    "mappings = {groups.index[0]:'Group1: Non-car', groups.index[1]:'Group2: Car'}\n",
    "groups = groups.rename(index=mappings)\n",
    "groups.plot(kind = 'bar')\n"
   ]
  },
  {
   "cell_type": "markdown",
   "id": "86a5964e-189a-4edb-ba83-abe0bc26136d",
   "metadata": {
    "tags": []
   },
   "source": [
    "Explanation:\n",
    "Here we defined two subgroups which consists of Group1:Non-Car and Group2:Car. Group1:Non-car consists of groups 'Walk, Public Transportation, and Bicycle / Scooter / Skateboard)' while Group2:Car consists of 'Carpool , Driven (Dropped-off), Drive Yourself'. We first figure out the count for each individual group then split them into Group1:Non-car and Group2:Car. By doing so, we take the mean for Group1:Non-car which is 17.0, and the mean for Group2:Car which is 9.666667. We can conclude that those who do not commute by car (aka Group1:Non-car) are the ones who end up purchasing more food/drinks on campus than those who commute by car (aka Group2:Car) as seen on the graph. "
   ]
  },
  {
   "cell_type": "markdown",
   "id": "0ccc83d7-e546-4ddc-8d9a-2c5f6c187550",
   "metadata": {},
   "source": [
    "-Graph #2: FINDING THE CORRELATION BETWEEN STUDENTS WHO HAVE A DINING PLAN VS STUDENTS WHO DO NOT HAVE A DINING PLAN BY COMPARING HOW MANY ITEMS THEY BUY"
   ]
  },
  {
   "cell_type": "code",
   "execution_count": 30,
   "id": "a146483d-359a-4806-b79a-988e53cc0555",
   "metadata": {},
   "outputs": [],
   "source": [
    "import seaborn as sns\n",
    "%matplotlib inline\n",
    "plt.style.use(\"seaborn\")\n",
    "meal_plan = pd.read_csv(r'C:\\Users\\lenar\\Desktop\\lab 5_6_f22\\lab6\\data.csv')\n"
   ]
  },
  {
   "cell_type": "code",
   "execution_count": 14,
   "id": "1d0fc6fd-f4d4-4733-83d5-fbdc3edf95c1",
   "metadata": {},
   "outputs": [],
   "source": [
    "#my path to where my data.csv is located\n",
    "df = pd.read_csv(r'C:\\Users\\lenar\\Desktop\\lab 5_6_f22\\lab6\\data.csv')"
   ]
  },
  {
   "cell_type": "code",
   "execution_count": 58,
   "id": "fb9a2127-8115-4b90-953f-59f327c7197c",
   "metadata": {},
   "outputs": [
    {
     "data": {
      "text/plain": [
       "4.304347826086956"
      ]
     },
     "execution_count": 58,
     "metadata": {},
     "output_type": "execute_result"
    }
   ],
   "source": [
    "#Group_a: students who have dining plan \n",
    "group56_57 = df[['56. Do you have a UCR dining plan?', '57. How many times a week do you purchase food or drinks from somewhere on campus?']]\n",
    "group56_57_yes = group56_57.loc[group56_57['56. Do you have a UCR dining plan?'] == \"Yes\"]\n",
    "group56_57_yes = group56_57_yes.drop('56. Do you have a UCR dining plan?', axis=1)\n",
    "group56_57_yes = group56_57_yes.reset_index(drop=True)\n",
    "\n",
    "students = group56_57_yes.value_counts().sum()\n",
    "total_items = group56_57_yes['57. How many times a week do you purchase food or drinks from somewhere on campus?'].sum()\n",
    "\n",
    "total_items / students\n",
    "#The mean for group_a: students who do have a dining plan\n",
    "#if we were to exclude the outlier is would instead be 80 (total items) / 22(students) = average of 3.6 items "
   ]
  },
  {
   "cell_type": "code",
   "execution_count": 61,
   "id": "cb7fd869-d4bd-401e-ac8d-3051da28715f",
   "metadata": {
    "tags": []
   },
   "outputs": [
    {
     "data": {
      "image/png": "[encoded data removed]",
      "text/plain": [
       "<Figure size 576x576 with 1 Axes>"
      ]
     },
     "metadata": {},
     "output_type": "display_data"
    }
   ],
   "source": [
    "# Plot of students who do have a UCR dining plan, \n",
    "# and how many times a week they purchase food/drink on campus\n",
    "bins = np.arange(26) - 0.5\n",
    "sns.displot(data=group56_57_yes, bins=bins, kde=True, height=8, legend=False)\n",
    "plt.xticks(range(32))\n",
    "plt.xlim([-1,20])\n",
    "plt.title('Group_A: Students who do have dining plan')\n",
    "plt.xlabel('Food/drinks bought')\n",
    "plt.ylabel('Students')\n",
    "plt.show()"
   ]
  },
  {
   "cell_type": "markdown",
   "id": "fd793061-d1bc-4150-8c64-af24303f69ca",
   "metadata": {},
   "source": [
    "Explanation:\n",
    "For Group_A:Students who do have dining plan, there are a total of 23 students with a total of 99 food/drinks if we were to exclude the outlier it would be 22 students with a total of 80 food/drinks. By taking the mean of the total amount of food/drinks bought and # of students who do have dining plan we got the average of 4.304347826086956 items. If we were to exclude the outlier, which is the 1 student who bought 19 items per week, it would instead be an average of 3.636363636363636 items. "
   ]
  },
  {
   "cell_type": "code",
   "execution_count": 20,
   "id": "0c4653fd-4431-4d68-9bb9-61707df3925d",
   "metadata": {},
   "outputs": [],
   "source": [
    "#group_b: students who do not have a dining plan\n",
    "group56_57 = df[['56. Do you have a UCR dining plan?', '57. How many times a week do you purchase food or drinks from somewhere on campus?']]\n",
    "group56_57_no = group56_57.loc[group56_57['56. Do you have a UCR dining plan?'] == \"No\"]\n",
    "group56_57_no = group56_57_no.drop('56. Do you have a UCR dining plan?', axis=1)\n",
    "group56_57_no = group56_57_no.reset_index(drop=True)"
   ]
  },
  {
   "cell_type": "code",
   "execution_count": 60,
   "id": "d0f76313-f9f6-45a6-adbe-b255e021d42a",
   "metadata": {},
   "outputs": [
    {
     "data": {
      "text/plain": [
       "2.307017543859649"
      ]
     },
     "execution_count": 60,
     "metadata": {},
     "output_type": "execute_result"
    }
   ],
   "source": [
    "#The mean for group_b: students who do not have a dining plan\n",
    "students = group56_57_no.value_counts().sum()\n",
    "total_items = group56_57_no['57. How many times a week do you purchase food or drinks from somewhere on campus?'].sum()\n",
    "\n",
    "total_items / students\n",
    "#avereage amount of items bought for group_b"
   ]
  },
  {
   "cell_type": "code",
   "execution_count": 62,
   "id": "1d7db8d2-5cb0-44cc-a4b5-5acbf2d374f9",
   "metadata": {},
   "outputs": [
    {
     "data": {
      "image/png": "[encoded data removed]",
      "text/plain": [
       "<Figure size 576x576 with 1 Axes>"
      ]
     },
     "metadata": {},
     "output_type": "display_data"
    }
   ],
   "source": [
    "# Plot of students who do NOT have a UCR dining plan, \n",
    "# and how many times a week they purchase food/drink on campus\n",
    "bins = np.arange(57) - 0.5\n",
    "sns.displot(data=group56_57_no, bins=bins, kde=True, height=8, legend=False)\n",
    "plt.xticks(range(12))\n",
    "plt.yticks(range(20))\n",
    "plt.xlim([-1,12])\n",
    "plt.title('Group_B: Students who do not have dining plan')\n",
    "plt.xlabel('Food/drinks bought')\n",
    "plt.ylabel('Students')\n",
    "plt.show()"
   ]
  },
  {
   "cell_type": "markdown",
   "id": "7eab8838-eea3-4612-8fc4-d2bc936e676e",
   "metadata": {},
   "source": [
    "Explanation:\n",
    "For Group_B: Students who do not have dining plan, there are a total of 57 students with a total of 132 food/drinks.By taking the mean of the total amount of food/drinks bought and # of students who do not have dining plan we got the average of 2.307017543859649 items. \n"
   ]
  },
  {
   "cell_type": "markdown",
   "id": "16d75139-1f3c-4cc4-9fe2-6326194ae15f",
   "metadata": {},
   "source": [
    "Summary:\n",
    "Here we defined two groups which consists of \"Group_A:Students who have dining plan\" and \"Graph_B: Students who do not have dining plan\". We can see that Group_a has a bigger average of items than Group_B which is surprising due to the fact that we believed that it would be the other way around. Even if we were to exclude the outlier for Group_A, Group_A's average is still bigger than Group_B. We can conclude that those who have a dining plan end up buying more food/drinks than those who do not have a dining plan.\n"
   ]
  }
 ],
 "metadata": {
  "kernelspec": {
   "display_name": "Python 3 (ipykernel)",
   "language": "python",
   "name": "python3"
  },
  "language_info": {
   "codemirror_mode": {
    "name": "ipython",
    "version": 3
   },
   "file_extension": ".py",
   "mimetype": "text/x-python",
   "name": "python",
   "nbconvert_exporter": "python",
   "pygments_lexer": "ipython3",
   "version": "3.8.6"
  }
 },
 "nbformat": 4,
 "nbformat_minor": 5
}
